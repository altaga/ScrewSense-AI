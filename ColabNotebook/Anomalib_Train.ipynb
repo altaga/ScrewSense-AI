{
  "nbformat": 4,
  "nbformat_minor": 0,
  "metadata": {
    "colab": {
      "provenance": [],
      "include_colab_link": true
    },
    "kernelspec": {
      "name": "python3",
      "display_name": "Python 3"
    },
    "language_info": {
      "name": "python"
    }
  },
  "cells": [
    {
      "cell_type": "markdown",
      "metadata": {
        "id": "view-in-github",
        "colab_type": "text"
      },
      "source": [
        "<a href=\"https://colab.research.google.com/github/altaga/ScrewSense-AI/blob/main/ColabNotebook/Anomalib_Train.ipynb\" target=\"_parent\"><img src=\"https://colab.research.google.com/assets/colab-badge.svg\" alt=\"Open In Colab\"/></a>"
      ]
    },
    {
      "cell_type": "markdown",
      "source": [
        "# Anomalib Train and Test\n",
        "\n",
        "In this notebook I show how to train any of the networks provided by the anomalib library directly in colab."
      ],
      "metadata": {
        "id": "jZDG7NKG69Em"
      }
    },
    {
      "cell_type": "markdown",
      "source": [
        "## Download libraries and install dependencies."
      ],
      "metadata": {
        "id": "Kaa8Myi41JCp"
      }
    },
    {
      "cell_type": "code",
      "source": [
        "!git clone https://github.com/openvinotoolkit/anomalib.git"
      ],
      "metadata": {
        "id": "JrgrWWF47X3s",
        "colab": {
          "base_uri": "https://localhost:8080/"
        },
        "outputId": "2603d13b-6018-4245-c5ab-87266a27896a"
      },
      "execution_count": null,
      "outputs": [
        {
          "output_type": "stream",
          "name": "stdout",
          "text": [
            "Cloning into 'anomalib'...\n",
            "remote: Enumerating objects: 33375, done.\u001b[K\n",
            "remote: Counting objects: 100% (3854/3854), done.\u001b[K\n",
            "remote: Compressing objects: 100% (2244/2244), done.\u001b[K\n",
            "remote: Total 33375 (delta 2245), reused 2644 (delta 1517), pack-reused 29521\u001b[K\n",
            "Receiving objects: 100% (33375/33375), 1.51 GiB | 30.48 MiB/s, done.\n",
            "Resolving deltas: 100% (18824/18824), done.\n"
          ]
        }
      ]
    },
    {
      "cell_type": "code",
      "source": [
        "!pip install anomalib"
      ],
      "metadata": {
        "id": "wsd-I8MS8acb",
        "colab": {
          "base_uri": "https://localhost:8080/",
          "height": 1000
        },
        "outputId": "2f9dc0d9-163c-45de-c19e-e5527c0fdfaa"
      },
      "execution_count": null,
      "outputs": [
        {
          "output_type": "stream",
          "name": "stdout",
          "text": [
            "Collecting anomalib\n",
            "  Downloading anomalib-0.7.0-py3-none-any.whl (349 kB)\n",
            "\u001b[2K     \u001b[90m━━━━━━━━━━━━━━━━━━━━━━━━━━━━━━━━━━━━━━━━\u001b[0m \u001b[32m349.7/349.7 kB\u001b[0m \u001b[31m3.4 MB/s\u001b[0m eta \u001b[36m0:00:00\u001b[0m\n",
            "\u001b[?25hRequirement already satisfied: albumentations>=1.1.0 in /usr/local/lib/python3.10/dist-packages (from anomalib) (1.3.1)\n",
            "Collecting av>=10.0.0 (from anomalib)\n",
            "  Downloading av-11.0.0-cp310-cp310-manylinux_2_17_x86_64.manylinux2014_x86_64.whl (32.9 MB)\n",
            "\u001b[2K     \u001b[90m━━━━━━━━━━━━━━━━━━━━━━━━━━━━━━━━━━━━━━━━\u001b[0m \u001b[32m32.9/32.9 MB\u001b[0m \u001b[31m13.4 MB/s\u001b[0m eta \u001b[36m0:00:00\u001b[0m\n",
            "\u001b[?25hCollecting einops>=0.3.2 (from anomalib)\n",
            "  Downloading einops-0.7.0-py3-none-any.whl (44 kB)\n",
            "\u001b[2K     \u001b[90m━━━━━━━━━━━━━━━━━━━━━━━━━━━━━━━━━━━━━━━━\u001b[0m \u001b[32m44.6/44.6 kB\u001b[0m \u001b[31m4.9 MB/s\u001b[0m eta \u001b[36m0:00:00\u001b[0m\n",
            "\u001b[?25hCollecting freia>=0.2 (from anomalib)\n",
            "  Downloading FrEIA-0.2.tar.gz (34 kB)\n",
            "  Preparing metadata (setup.py) ... \u001b[?25l\u001b[?25hdone\n",
            "Requirement already satisfied: imgaug==0.4.0 in /usr/local/lib/python3.10/dist-packages (from anomalib) (0.4.0)\n",
            "Collecting jsonargparse[signatures]>=4.3 (from anomalib)\n",
            "  Downloading jsonargparse-4.27.1-py3-none-any.whl (189 kB)\n",
            "\u001b[2K     \u001b[90m━━━━━━━━━━━━━━━━━━━━━━━━━━━━━━━━━━━━━━━━\u001b[0m \u001b[32m189.7/189.7 kB\u001b[0m \u001b[31m23.2 MB/s\u001b[0m eta \u001b[36m0:00:00\u001b[0m\n",
            "\u001b[?25hCollecting kornia<0.6.10,>=0.6.6 (from anomalib)\n",
            "  Downloading kornia-0.6.9-py2.py3-none-any.whl (569 kB)\n",
            "\u001b[2K     \u001b[90m━━━━━━━━━━━━━━━━━━━━━━━━━━━━━━━━━━━━━━━━\u001b[0m \u001b[32m569.1/569.1 kB\u001b[0m \u001b[31m47.8 MB/s\u001b[0m eta \u001b[36m0:00:00\u001b[0m\n",
            "\u001b[?25hRequirement already satisfied: matplotlib>=3.4.3 in /usr/local/lib/python3.10/dist-packages (from anomalib) (3.7.1)\n",
            "Collecting omegaconf>=2.1.1 (from anomalib)\n",
            "  Downloading omegaconf-2.3.0-py3-none-any.whl (79 kB)\n",
            "\u001b[2K     \u001b[90m━━━━━━━━━━━━━━━━━━━━━━━━━━━━━━━━━━━━━━━━\u001b[0m \u001b[32m79.5/79.5 kB\u001b[0m \u001b[31m8.3 MB/s\u001b[0m eta \u001b[36m0:00:00\u001b[0m\n",
            "\u001b[?25hRequirement already satisfied: opencv-python>=4.5.3.56 in /usr/local/lib/python3.10/dist-packages (from anomalib) (4.8.0.76)\n",
            "Requirement already satisfied: pandas>=1.1.0 in /usr/local/lib/python3.10/dist-packages (from anomalib) (1.5.3)\n",
            "Collecting pytorch-lightning<1.10.0,>=1.7.0 (from anomalib)\n",
            "  Downloading pytorch_lightning-1.9.5-py3-none-any.whl (829 kB)\n",
            "\u001b[2K     \u001b[90m━━━━━━━━━━━━━━━━━━━━━━━━━━━━━━━━━━━━━━━━\u001b[0m \u001b[32m829.5/829.5 kB\u001b[0m \u001b[31m49.5 MB/s\u001b[0m eta \u001b[36m0:00:00\u001b[0m\n",
            "\u001b[?25hCollecting timm<=0.6.12,>=0.5.4 (from anomalib)\n",
            "  Downloading timm-0.6.12-py3-none-any.whl (549 kB)\n",
            "\u001b[2K     \u001b[90m━━━━━━━━━━━━━━━━━━━━━━━━━━━━━━━━━━━━━━━━\u001b[0m \u001b[32m549.1/549.1 kB\u001b[0m \u001b[31m46.0 MB/s\u001b[0m eta \u001b[36m0:00:00\u001b[0m\n",
            "\u001b[?25hCollecting torchmetrics==0.10.3 (from anomalib)\n",
            "  Downloading torchmetrics-0.10.3-py3-none-any.whl (529 kB)\n",
            "\u001b[2K     \u001b[90m━━━━━━━━━━━━━━━━━━━━━━━━━━━━━━━━━━━━━━━━\u001b[0m \u001b[32m529.7/529.7 kB\u001b[0m \u001b[31m46.5 MB/s\u001b[0m eta \u001b[36m0:00:00\u001b[0m\n",
            "\u001b[?25hRequirement already satisfied: six in /usr/local/lib/python3.10/dist-packages (from imgaug==0.4.0->anomalib) (1.16.0)\n",
            "Requirement already satisfied: numpy>=1.15 in /usr/local/lib/python3.10/dist-packages (from imgaug==0.4.0->anomalib) (1.23.5)\n",
            "Requirement already satisfied: scipy in /usr/local/lib/python3.10/dist-packages (from imgaug==0.4.0->anomalib) (1.11.4)\n",
            "Requirement already satisfied: Pillow in /usr/local/lib/python3.10/dist-packages (from imgaug==0.4.0->anomalib) (9.4.0)\n",
            "Requirement already satisfied: scikit-image>=0.14.2 in /usr/local/lib/python3.10/dist-packages (from imgaug==0.4.0->anomalib) (0.19.3)\n",
            "Requirement already satisfied: imageio in /usr/local/lib/python3.10/dist-packages (from imgaug==0.4.0->anomalib) (2.31.6)\n",
            "Requirement already satisfied: Shapely in /usr/local/lib/python3.10/dist-packages (from imgaug==0.4.0->anomalib) (2.0.2)\n",
            "Requirement already satisfied: torch>=1.3.1 in /usr/local/lib/python3.10/dist-packages (from torchmetrics==0.10.3->anomalib) (2.1.0+cu121)\n",
            "Requirement already satisfied: packaging in /usr/local/lib/python3.10/dist-packages (from torchmetrics==0.10.3->anomalib) (23.2)\n",
            "Requirement already satisfied: PyYAML in /usr/local/lib/python3.10/dist-packages (from albumentations>=1.1.0->anomalib) (6.0.1)\n",
            "Requirement already satisfied: qudida>=0.0.4 in /usr/local/lib/python3.10/dist-packages (from albumentations>=1.1.0->anomalib) (0.0.4)\n",
            "Requirement already satisfied: opencv-python-headless>=4.1.1 in /usr/local/lib/python3.10/dist-packages (from albumentations>=1.1.0->anomalib) (4.8.1.78)\n",
            "Collecting docstring-parser>=0.15 (from jsonargparse[signatures]>=4.3->anomalib)\n",
            "  Downloading docstring_parser-0.15-py3-none-any.whl (36 kB)\n",
            "Collecting typeshed-client>=2.1.0 (from jsonargparse[signatures]>=4.3->anomalib)\n",
            "  Downloading typeshed_client-2.4.0-py3-none-any.whl (594 kB)\n",
            "\u001b[2K     \u001b[90m━━━━━━━━━━━━━━━━━━━━━━━━━━━━━━━━━━━━━━━━\u001b[0m \u001b[32m594.2/594.2 kB\u001b[0m \u001b[31m45.6 MB/s\u001b[0m eta \u001b[36m0:00:00\u001b[0m\n",
            "\u001b[?25hRequirement already satisfied: contourpy>=1.0.1 in /usr/local/lib/python3.10/dist-packages (from matplotlib>=3.4.3->anomalib) (1.2.0)\n",
            "Requirement already satisfied: cycler>=0.10 in /usr/local/lib/python3.10/dist-packages (from matplotlib>=3.4.3->anomalib) (0.12.1)\n",
            "Requirement already satisfied: fonttools>=4.22.0 in /usr/local/lib/python3.10/dist-packages (from matplotlib>=3.4.3->anomalib) (4.46.0)\n",
            "Requirement already satisfied: kiwisolver>=1.0.1 in /usr/local/lib/python3.10/dist-packages (from matplotlib>=3.4.3->anomalib) (1.4.5)\n",
            "Requirement already satisfied: pyparsing>=2.3.1 in /usr/local/lib/python3.10/dist-packages (from matplotlib>=3.4.3->anomalib) (3.1.1)\n",
            "Requirement already satisfied: python-dateutil>=2.7 in /usr/local/lib/python3.10/dist-packages (from matplotlib>=3.4.3->anomalib) (2.8.2)\n",
            "Collecting antlr4-python3-runtime==4.9.* (from omegaconf>=2.1.1->anomalib)\n",
            "  Downloading antlr4-python3-runtime-4.9.3.tar.gz (117 kB)\n",
            "\u001b[2K     \u001b[90m━━━━━━━━━━━━━━━━━━━━━━━━━━━━━━━━━━━━━━━━\u001b[0m \u001b[32m117.0/117.0 kB\u001b[0m \u001b[31m16.2 MB/s\u001b[0m eta \u001b[36m0:00:00\u001b[0m\n",
            "\u001b[?25h  Preparing metadata (setup.py) ... \u001b[?25l\u001b[?25hdone\n",
            "Requirement already satisfied: pytz>=2020.1 in /usr/local/lib/python3.10/dist-packages (from pandas>=1.1.0->anomalib) (2023.3.post1)\n",
            "Requirement already satisfied: tqdm>=4.57.0 in /usr/local/lib/python3.10/dist-packages (from pytorch-lightning<1.10.0,>=1.7.0->anomalib) (4.66.1)\n",
            "Requirement already satisfied: fsspec[http]>2021.06.0 in /usr/local/lib/python3.10/dist-packages (from pytorch-lightning<1.10.0,>=1.7.0->anomalib) (2023.6.0)\n",
            "Requirement already satisfied: typing-extensions>=4.0.0 in /usr/local/lib/python3.10/dist-packages (from pytorch-lightning<1.10.0,>=1.7.0->anomalib) (4.5.0)\n",
            "Collecting lightning-utilities>=0.6.0.post0 (from pytorch-lightning<1.10.0,>=1.7.0->anomalib)\n",
            "  Downloading lightning_utilities-0.10.0-py3-none-any.whl (24 kB)\n",
            "Requirement already satisfied: torchvision in /usr/local/lib/python3.10/dist-packages (from timm<=0.6.12,>=0.5.4->anomalib) (0.16.0+cu121)\n",
            "Requirement already satisfied: huggingface-hub in /usr/local/lib/python3.10/dist-packages (from timm<=0.6.12,>=0.5.4->anomalib) (0.19.4)\n",
            "Requirement already satisfied: requests in /usr/local/lib/python3.10/dist-packages (from fsspec[http]>2021.06.0->pytorch-lightning<1.10.0,>=1.7.0->anomalib) (2.31.0)\n",
            "Requirement already satisfied: aiohttp!=4.0.0a0,!=4.0.0a1 in /usr/local/lib/python3.10/dist-packages (from fsspec[http]>2021.06.0->pytorch-lightning<1.10.0,>=1.7.0->anomalib) (3.9.1)\n",
            "Requirement already satisfied: setuptools in /usr/local/lib/python3.10/dist-packages (from lightning-utilities>=0.6.0.post0->pytorch-lightning<1.10.0,>=1.7.0->anomalib) (67.7.2)\n",
            "Requirement already satisfied: scikit-learn>=0.19.1 in /usr/local/lib/python3.10/dist-packages (from qudida>=0.0.4->albumentations>=1.1.0->anomalib) (1.2.2)\n",
            "Requirement already satisfied: networkx>=2.2 in /usr/local/lib/python3.10/dist-packages (from scikit-image>=0.14.2->imgaug==0.4.0->anomalib) (3.2.1)\n",
            "Requirement already satisfied: tifffile>=2019.7.26 in /usr/local/lib/python3.10/dist-packages (from scikit-image>=0.14.2->imgaug==0.4.0->anomalib) (2023.12.9)\n",
            "Requirement already satisfied: PyWavelets>=1.1.1 in /usr/local/lib/python3.10/dist-packages (from scikit-image>=0.14.2->imgaug==0.4.0->anomalib) (1.5.0)\n",
            "Requirement already satisfied: filelock in /usr/local/lib/python3.10/dist-packages (from torch>=1.3.1->torchmetrics==0.10.3->anomalib) (3.13.1)\n",
            "Requirement already satisfied: sympy in /usr/local/lib/python3.10/dist-packages (from torch>=1.3.1->torchmetrics==0.10.3->anomalib) (1.12)\n",
            "Requirement already satisfied: jinja2 in /usr/local/lib/python3.10/dist-packages (from torch>=1.3.1->torchmetrics==0.10.3->anomalib) (3.1.2)\n",
            "Requirement already satisfied: triton==2.1.0 in /usr/local/lib/python3.10/dist-packages (from torch>=1.3.1->torchmetrics==0.10.3->anomalib) (2.1.0)\n",
            "Requirement already satisfied: importlib-resources>=1.4.0 in /usr/local/lib/python3.10/dist-packages (from typeshed-client>=2.1.0->jsonargparse[signatures]>=4.3->anomalib) (6.1.1)\n",
            "Requirement already satisfied: attrs>=17.3.0 in /usr/local/lib/python3.10/dist-packages (from aiohttp!=4.0.0a0,!=4.0.0a1->fsspec[http]>2021.06.0->pytorch-lightning<1.10.0,>=1.7.0->anomalib) (23.1.0)\n",
            "Requirement already satisfied: multidict<7.0,>=4.5 in /usr/local/lib/python3.10/dist-packages (from aiohttp!=4.0.0a0,!=4.0.0a1->fsspec[http]>2021.06.0->pytorch-lightning<1.10.0,>=1.7.0->anomalib) (6.0.4)\n",
            "Requirement already satisfied: yarl<2.0,>=1.0 in /usr/local/lib/python3.10/dist-packages (from aiohttp!=4.0.0a0,!=4.0.0a1->fsspec[http]>2021.06.0->pytorch-lightning<1.10.0,>=1.7.0->anomalib) (1.9.4)\n",
            "Requirement already satisfied: frozenlist>=1.1.1 in /usr/local/lib/python3.10/dist-packages (from aiohttp!=4.0.0a0,!=4.0.0a1->fsspec[http]>2021.06.0->pytorch-lightning<1.10.0,>=1.7.0->anomalib) (1.4.0)\n",
            "Requirement already satisfied: aiosignal>=1.1.2 in /usr/local/lib/python3.10/dist-packages (from aiohttp!=4.0.0a0,!=4.0.0a1->fsspec[http]>2021.06.0->pytorch-lightning<1.10.0,>=1.7.0->anomalib) (1.3.1)\n",
            "Requirement already satisfied: async-timeout<5.0,>=4.0 in /usr/local/lib/python3.10/dist-packages (from aiohttp!=4.0.0a0,!=4.0.0a1->fsspec[http]>2021.06.0->pytorch-lightning<1.10.0,>=1.7.0->anomalib) (4.0.3)\n",
            "Requirement already satisfied: joblib>=1.1.1 in /usr/local/lib/python3.10/dist-packages (from scikit-learn>=0.19.1->qudida>=0.0.4->albumentations>=1.1.0->anomalib) (1.3.2)\n",
            "Requirement already satisfied: threadpoolctl>=2.0.0 in /usr/local/lib/python3.10/dist-packages (from scikit-learn>=0.19.1->qudida>=0.0.4->albumentations>=1.1.0->anomalib) (3.2.0)\n",
            "Requirement already satisfied: MarkupSafe>=2.0 in /usr/local/lib/python3.10/dist-packages (from jinja2->torch>=1.3.1->torchmetrics==0.10.3->anomalib) (2.1.3)\n",
            "Requirement already satisfied: charset-normalizer<4,>=2 in /usr/local/lib/python3.10/dist-packages (from requests->fsspec[http]>2021.06.0->pytorch-lightning<1.10.0,>=1.7.0->anomalib) (3.3.2)\n",
            "Requirement already satisfied: idna<4,>=2.5 in /usr/local/lib/python3.10/dist-packages (from requests->fsspec[http]>2021.06.0->pytorch-lightning<1.10.0,>=1.7.0->anomalib) (3.6)\n",
            "Requirement already satisfied: urllib3<3,>=1.21.1 in /usr/local/lib/python3.10/dist-packages (from requests->fsspec[http]>2021.06.0->pytorch-lightning<1.10.0,>=1.7.0->anomalib) (2.0.7)\n",
            "Requirement already satisfied: certifi>=2017.4.17 in /usr/local/lib/python3.10/dist-packages (from requests->fsspec[http]>2021.06.0->pytorch-lightning<1.10.0,>=1.7.0->anomalib) (2023.11.17)\n",
            "Requirement already satisfied: mpmath>=0.19 in /usr/local/lib/python3.10/dist-packages (from sympy->torch>=1.3.1->torchmetrics==0.10.3->anomalib) (1.3.0)\n",
            "Building wheels for collected packages: freia, antlr4-python3-runtime\n",
            "  Building wheel for freia (setup.py) ... \u001b[?25l\u001b[?25hdone\n",
            "  Created wheel for freia: filename=FrEIA-0.2-py3-none-any.whl size=42759 sha256=ce4a97fc7dbe92ff61981e23de59d8d599e697a5f4b2ac1f921a745ba610f18e\n",
            "  Stored in directory: /root/.cache/pip/wheels/81/a8/e2/d532a76f72108ac4a340cbe3f86b4f591abfdbd75209a5badb\n",
            "  Building wheel for antlr4-python3-runtime (setup.py) ... \u001b[?25l\u001b[?25hdone\n",
            "  Created wheel for antlr4-python3-runtime: filename=antlr4_python3_runtime-4.9.3-py3-none-any.whl size=144554 sha256=8ae1265677a257a81c6ef987381f834a5d5aee4010f6eb410f30ee388c70b3c2\n",
            "  Stored in directory: /root/.cache/pip/wheels/12/93/dd/1f6a127edc45659556564c5730f6d4e300888f4bca2d4c5a88\n",
            "Successfully built freia antlr4-python3-runtime\n",
            "Installing collected packages: antlr4-python3-runtime, typeshed-client, omegaconf, lightning-utilities, jsonargparse, einops, docstring-parser, av, torchmetrics, kornia, freia, timm, pytorch-lightning, anomalib\n",
            "Successfully installed anomalib-0.7.0 antlr4-python3-runtime-4.9.3 av-11.0.0 docstring-parser-0.15 einops-0.7.0 freia-0.2 jsonargparse-4.27.1 kornia-0.6.9 lightning-utilities-0.10.0 omegaconf-2.3.0 pytorch-lightning-1.9.5 timm-0.6.12 torchmetrics-0.10.3 typeshed-client-2.4.0\n"
          ]
        },
        {
          "output_type": "display_data",
          "data": {
            "application/vnd.colab-display-data+json": {
              "pip_warning": {
                "packages": [
                  "pydevd_plugins"
                ]
              }
            }
          },
          "metadata": {}
        }
      ]
    },
    {
      "cell_type": "code",
      "source": [
        "%cd anomalib/requirements"
      ],
      "metadata": {
        "id": "sDxgOQaT_nBo",
        "colab": {
          "base_uri": "https://localhost:8080/"
        },
        "outputId": "e1b5ec5f-0341-45e8-fa23-14b53782fd68"
      },
      "execution_count": null,
      "outputs": [
        {
          "output_type": "stream",
          "name": "stdout",
          "text": [
            "/content/anomalib/requirements\n"
          ]
        }
      ]
    },
    {
      "cell_type": "code",
      "source": [
        "!pip install -r openvino.txt"
      ],
      "metadata": {
        "colab": {
          "base_uri": "https://localhost:8080/",
          "height": 1000
        },
        "id": "D18X7t7DBG12",
        "outputId": "7bcfc8b5-4b64-4342-cbf1-a5b709b780f9"
      },
      "execution_count": null,
      "outputs": [
        {
          "output_type": "stream",
          "name": "stdout",
          "text": [
            "Requirement already satisfied: defusedxml==0.7.1 in /usr/local/lib/python3.10/dist-packages (from -r openvino.txt (line 1)) (0.7.1)\n",
            "Requirement already satisfied: requests>=2.26.0 in /usr/local/lib/python3.10/dist-packages (from -r openvino.txt (line 2)) (2.31.0)\n",
            "Collecting networkx~=2.5 (from -r openvino.txt (line 3))\n",
            "  Downloading networkx-2.8.8-py3-none-any.whl (2.0 MB)\n",
            "\u001b[2K     \u001b[90m━━━━━━━━━━━━━━━━━━━━━━━━━━━━━━━━━━━━━━━━\u001b[0m \u001b[32m2.0/2.0 MB\u001b[0m \u001b[31m19.7 MB/s\u001b[0m eta \u001b[36m0:00:00\u001b[0m\n",
            "\u001b[?25hCollecting nncf>=2.1.0 (from -r openvino.txt (line 4))\n",
            "  Downloading nncf-2.7.0-py3-none-any.whl (1.2 MB)\n",
            "\u001b[2K     \u001b[90m━━━━━━━━━━━━━━━━━━━━━━━━━━━━━━━━━━━━━━━━\u001b[0m \u001b[32m1.2/1.2 MB\u001b[0m \u001b[31m39.0 MB/s\u001b[0m eta \u001b[36m0:00:00\u001b[0m\n",
            "\u001b[?25hCollecting onnx>=1.10.1 (from -r openvino.txt (line 5))\n",
            "  Downloading onnx-1.15.0-cp310-cp310-manylinux_2_17_x86_64.manylinux2014_x86_64.whl (15.7 MB)\n",
            "\u001b[2K     \u001b[90m━━━━━━━━━━━━━━━━━━━━━━━━━━━━━━━━━━━━━━━━\u001b[0m \u001b[32m15.7/15.7 MB\u001b[0m \u001b[31m63.5 MB/s\u001b[0m eta \u001b[36m0:00:00\u001b[0m\n",
            "\u001b[?25hCollecting openvino-dev>=2022.3.0 (from -r openvino.txt (line 6))\n",
            "  Downloading openvino_dev-2023.2.0-13089-py3-none-any.whl (5.9 MB)\n",
            "\u001b[2K     \u001b[90m━━━━━━━━━━━━━━━━━━━━━━━━━━━━━━━━━━━━━━━━\u001b[0m \u001b[32m5.9/5.9 MB\u001b[0m \u001b[31m79.1 MB/s\u001b[0m eta \u001b[36m0:00:00\u001b[0m\n",
            "\u001b[?25hRequirement already satisfied: charset-normalizer<4,>=2 in /usr/local/lib/python3.10/dist-packages (from requests>=2.26.0->-r openvino.txt (line 2)) (3.3.2)\n",
            "Requirement already satisfied: idna<4,>=2.5 in /usr/local/lib/python3.10/dist-packages (from requests>=2.26.0->-r openvino.txt (line 2)) (3.6)\n",
            "Requirement already satisfied: urllib3<3,>=1.21.1 in /usr/local/lib/python3.10/dist-packages (from requests>=2.26.0->-r openvino.txt (line 2)) (2.0.7)\n",
            "Requirement already satisfied: certifi>=2017.4.17 in /usr/local/lib/python3.10/dist-packages (from requests>=2.26.0->-r openvino.txt (line 2)) (2023.11.17)\n",
            "Requirement already satisfied: jsonschema>=3.2.0 in /usr/local/lib/python3.10/dist-packages (from nncf>=2.1.0->-r openvino.txt (line 4)) (4.19.2)\n",
            "Collecting jstyleson>=0.0.2 (from nncf>=2.1.0->-r openvino.txt (line 4))\n",
            "  Downloading jstyleson-0.0.2.tar.gz (2.0 kB)\n",
            "  Preparing metadata (setup.py) ... \u001b[?25l\u001b[?25hdone\n",
            "Requirement already satisfied: natsort>=7.1.0 in /usr/local/lib/python3.10/dist-packages (from nncf>=2.1.0->-r openvino.txt (line 4)) (8.4.0)\n",
            "Collecting networkx~=2.5 (from -r openvino.txt (line 3))\n",
            "  Downloading networkx-2.8.2-py3-none-any.whl (2.0 MB)\n",
            "\u001b[2K     \u001b[90m━━━━━━━━━━━━━━━━━━━━━━━━━━━━━━━━━━━━━━━━\u001b[0m \u001b[32m2.0/2.0 MB\u001b[0m \u001b[31m56.6 MB/s\u001b[0m eta \u001b[36m0:00:00\u001b[0m\n",
            "\u001b[?25hCollecting ninja<1.11,>=1.10.0.post2 (from nncf>=2.1.0->-r openvino.txt (line 4))\n",
            "  Downloading ninja-1.10.2.4-py2.py3-none-manylinux_2_5_x86_64.manylinux1_x86_64.whl (120 kB)\n",
            "\u001b[2K     \u001b[90m━━━━━━━━━━━━━━━━━━━━━━━━━━━━━━━━━━━━━━━━\u001b[0m \u001b[32m120.7/120.7 kB\u001b[0m \u001b[31m13.0 MB/s\u001b[0m eta \u001b[36m0:00:00\u001b[0m\n",
            "\u001b[?25hRequirement already satisfied: numpy<1.27,>=1.19.1 in /usr/local/lib/python3.10/dist-packages (from nncf>=2.1.0->-r openvino.txt (line 4)) (1.23.5)\n",
            "Collecting openvino-telemetry>=2023.2.0 (from nncf>=2.1.0->-r openvino.txt (line 4))\n",
            "  Downloading openvino_telemetry-2023.2.1-py3-none-any.whl (23 kB)\n",
            "Requirement already satisfied: packaging>=20.0 in /usr/local/lib/python3.10/dist-packages (from nncf>=2.1.0->-r openvino.txt (line 4)) (23.2)\n",
            "Requirement already satisfied: pandas<2.1,>=1.1.5 in /usr/local/lib/python3.10/dist-packages (from nncf>=2.1.0->-r openvino.txt (line 4)) (1.5.3)\n",
            "Requirement already satisfied: psutil in /usr/local/lib/python3.10/dist-packages (from nncf>=2.1.0->-r openvino.txt (line 4)) (5.9.5)\n",
            "Requirement already satisfied: pydot>=1.4.1 in /usr/local/lib/python3.10/dist-packages (from nncf>=2.1.0->-r openvino.txt (line 4)) (1.4.2)\n",
            "Collecting pymoo>=0.6.0.1 (from nncf>=2.1.0->-r openvino.txt (line 4))\n",
            "  Downloading pymoo-0.6.1.1-cp310-cp310-manylinux_2_17_x86_64.manylinux2014_x86_64.whl (4.1 MB)\n",
            "\u001b[2K     \u001b[90m━━━━━━━━━━━━━━━━━━━━━━━━━━━━━━━━━━━━━━━━\u001b[0m \u001b[32m4.1/4.1 MB\u001b[0m \u001b[31m47.1 MB/s\u001b[0m eta \u001b[36m0:00:00\u001b[0m\n",
            "\u001b[?25hCollecting pyparsing<3.0 (from nncf>=2.1.0->-r openvino.txt (line 4))\n",
            "  Downloading pyparsing-2.4.7-py2.py3-none-any.whl (67 kB)\n",
            "\u001b[2K     \u001b[90m━━━━━━━━━━━━━━━━━━━━━━━━━━━━━━━━━━━━━━━━\u001b[0m \u001b[32m67.8/67.8 kB\u001b[0m \u001b[31m8.0 MB/s\u001b[0m eta \u001b[36m0:00:00\u001b[0m\n",
            "\u001b[?25hRequirement already satisfied: rich>=13.5.2 in /usr/local/lib/python3.10/dist-packages (from nncf>=2.1.0->-r openvino.txt (line 4)) (13.7.0)\n",
            "Requirement already satisfied: scikit-learn>=0.24.0 in /usr/local/lib/python3.10/dist-packages (from nncf>=2.1.0->-r openvino.txt (line 4)) (1.2.2)\n",
            "Requirement already satisfied: scipy>=1.3.2 in /usr/local/lib/python3.10/dist-packages (from nncf>=2.1.0->-r openvino.txt (line 4)) (1.11.4)\n",
            "Collecting texttable>=1.6.3 (from nncf>=2.1.0->-r openvino.txt (line 4))\n",
            "  Downloading texttable-1.7.0-py2.py3-none-any.whl (10 kB)\n",
            "Requirement already satisfied: tqdm>=4.54.1 in /usr/local/lib/python3.10/dist-packages (from nncf>=2.1.0->-r openvino.txt (line 4)) (4.66.1)\n",
            "Requirement already satisfied: protobuf>=3.20.2 in /usr/local/lib/python3.10/dist-packages (from onnx>=1.10.1->-r openvino.txt (line 5)) (3.20.3)\n",
            "Collecting addict>=2.4.0 (from openvino-dev>=2022.3.0->-r openvino.txt (line 6))\n",
            "  Downloading addict-2.4.0-py3-none-any.whl (3.8 kB)\n",
            "Requirement already satisfied: opencv-python in /usr/local/lib/python3.10/dist-packages (from openvino-dev>=2022.3.0->-r openvino.txt (line 6)) (4.8.0.76)\n",
            "Requirement already satisfied: pillow>=8.1.2 in /usr/local/lib/python3.10/dist-packages (from openvino-dev>=2022.3.0->-r openvino.txt (line 6)) (9.4.0)\n",
            "Requirement already satisfied: pyyaml>=5.4.1 in /usr/local/lib/python3.10/dist-packages (from openvino-dev>=2022.3.0->-r openvino.txt (line 6)) (6.0.1)\n",
            "Collecting openvino==2023.2.0 (from openvino-dev>=2022.3.0->-r openvino.txt (line 6))\n",
            "  Downloading openvino-2023.2.0-13089-cp310-cp310-manylinux2014_x86_64.whl (37.5 MB)\n",
            "\u001b[2K     \u001b[90m━━━━━━━━━━━━━━━━━━━━━━━━━━━━━━━━━━━━━━━━\u001b[0m \u001b[32m37.5/37.5 MB\u001b[0m \u001b[31m18.8 MB/s\u001b[0m eta \u001b[36m0:00:00\u001b[0m\n",
            "\u001b[?25hRequirement already satisfied: attrs>=22.2.0 in /usr/local/lib/python3.10/dist-packages (from jsonschema>=3.2.0->nncf>=2.1.0->-r openvino.txt (line 4)) (23.1.0)\n",
            "Requirement already satisfied: jsonschema-specifications>=2023.03.6 in /usr/local/lib/python3.10/dist-packages (from jsonschema>=3.2.0->nncf>=2.1.0->-r openvino.txt (line 4)) (2023.11.2)\n",
            "Requirement already satisfied: referencing>=0.28.4 in /usr/local/lib/python3.10/dist-packages (from jsonschema>=3.2.0->nncf>=2.1.0->-r openvino.txt (line 4)) (0.32.0)\n",
            "Requirement already satisfied: rpds-py>=0.7.1 in /usr/local/lib/python3.10/dist-packages (from jsonschema>=3.2.0->nncf>=2.1.0->-r openvino.txt (line 4)) (0.13.2)\n",
            "Requirement already satisfied: python-dateutil>=2.8.1 in /usr/local/lib/python3.10/dist-packages (from pandas<2.1,>=1.1.5->nncf>=2.1.0->-r openvino.txt (line 4)) (2.8.2)\n",
            "Requirement already satisfied: pytz>=2020.1 in /usr/local/lib/python3.10/dist-packages (from pandas<2.1,>=1.1.5->nncf>=2.1.0->-r openvino.txt (line 4)) (2023.3.post1)\n",
            "Requirement already satisfied: matplotlib>=3 in /usr/local/lib/python3.10/dist-packages (from pymoo>=0.6.0.1->nncf>=2.1.0->-r openvino.txt (line 4)) (3.7.1)\n",
            "Requirement already satisfied: autograd>=1.4 in /usr/local/lib/python3.10/dist-packages (from pymoo>=0.6.0.1->nncf>=2.1.0->-r openvino.txt (line 4)) (1.6.2)\n",
            "Collecting cma==3.2.2 (from pymoo>=0.6.0.1->nncf>=2.1.0->-r openvino.txt (line 4))\n",
            "  Downloading cma-3.2.2-py2.py3-none-any.whl (249 kB)\n",
            "\u001b[2K     \u001b[90m━━━━━━━━━━━━━━━━━━━━━━━━━━━━━━━━━━━━━━━━\u001b[0m \u001b[32m249.1/249.1 kB\u001b[0m \u001b[31m29.9 MB/s\u001b[0m eta \u001b[36m0:00:00\u001b[0m\n",
            "\u001b[?25hCollecting alive-progress (from pymoo>=0.6.0.1->nncf>=2.1.0->-r openvino.txt (line 4))\n",
            "  Downloading alive_progress-3.1.5-py3-none-any.whl (75 kB)\n",
            "\u001b[2K     \u001b[90m━━━━━━━━━━━━━━━━━━━━━━━━━━━━━━━━━━━━━━━━\u001b[0m \u001b[32m76.0/76.0 kB\u001b[0m \u001b[31m10.3 MB/s\u001b[0m eta \u001b[36m0:00:00\u001b[0m\n",
            "\u001b[?25hCollecting dill (from pymoo>=0.6.0.1->nncf>=2.1.0->-r openvino.txt (line 4))\n",
            "  Downloading dill-0.3.7-py3-none-any.whl (115 kB)\n",
            "\u001b[2K     \u001b[90m━━━━━━━━━━━━━━━━━━━━━━━━━━━━━━━━━━━━━━━━\u001b[0m \u001b[32m115.3/115.3 kB\u001b[0m \u001b[31m13.6 MB/s\u001b[0m eta \u001b[36m0:00:00\u001b[0m\n",
            "\u001b[?25hCollecting Deprecated (from pymoo>=0.6.0.1->nncf>=2.1.0->-r openvino.txt (line 4))\n",
            "  Downloading Deprecated-1.2.14-py2.py3-none-any.whl (9.6 kB)\n",
            "Requirement already satisfied: markdown-it-py>=2.2.0 in /usr/local/lib/python3.10/dist-packages (from rich>=13.5.2->nncf>=2.1.0->-r openvino.txt (line 4)) (3.0.0)\n",
            "Requirement already satisfied: pygments<3.0.0,>=2.13.0 in /usr/local/lib/python3.10/dist-packages (from rich>=13.5.2->nncf>=2.1.0->-r openvino.txt (line 4)) (2.16.1)\n",
            "Requirement already satisfied: joblib>=1.1.1 in /usr/local/lib/python3.10/dist-packages (from scikit-learn>=0.24.0->nncf>=2.1.0->-r openvino.txt (line 4)) (1.3.2)\n",
            "Requirement already satisfied: threadpoolctl>=2.0.0 in /usr/local/lib/python3.10/dist-packages (from scikit-learn>=0.24.0->nncf>=2.1.0->-r openvino.txt (line 4)) (3.2.0)\n",
            "Requirement already satisfied: future>=0.15.2 in /usr/local/lib/python3.10/dist-packages (from autograd>=1.4->pymoo>=0.6.0.1->nncf>=2.1.0->-r openvino.txt (line 4)) (0.18.3)\n",
            "Requirement already satisfied: mdurl~=0.1 in /usr/local/lib/python3.10/dist-packages (from markdown-it-py>=2.2.0->rich>=13.5.2->nncf>=2.1.0->-r openvino.txt (line 4)) (0.1.2)\n",
            "Requirement already satisfied: contourpy>=1.0.1 in /usr/local/lib/python3.10/dist-packages (from matplotlib>=3->pymoo>=0.6.0.1->nncf>=2.1.0->-r openvino.txt (line 4)) (1.2.0)\n",
            "Requirement already satisfied: cycler>=0.10 in /usr/local/lib/python3.10/dist-packages (from matplotlib>=3->pymoo>=0.6.0.1->nncf>=2.1.0->-r openvino.txt (line 4)) (0.12.1)\n",
            "Requirement already satisfied: fonttools>=4.22.0 in /usr/local/lib/python3.10/dist-packages (from matplotlib>=3->pymoo>=0.6.0.1->nncf>=2.1.0->-r openvino.txt (line 4)) (4.46.0)\n",
            "Requirement already satisfied: kiwisolver>=1.0.1 in /usr/local/lib/python3.10/dist-packages (from matplotlib>=3->pymoo>=0.6.0.1->nncf>=2.1.0->-r openvino.txt (line 4)) (1.4.5)\n",
            "Requirement already satisfied: six>=1.5 in /usr/local/lib/python3.10/dist-packages (from python-dateutil>=2.8.1->pandas<2.1,>=1.1.5->nncf>=2.1.0->-r openvino.txt (line 4)) (1.16.0)\n",
            "Collecting about-time==4.2.1 (from alive-progress->pymoo>=0.6.0.1->nncf>=2.1.0->-r openvino.txt (line 4))\n",
            "  Downloading about_time-4.2.1-py3-none-any.whl (13 kB)\n",
            "Collecting grapheme==0.6.0 (from alive-progress->pymoo>=0.6.0.1->nncf>=2.1.0->-r openvino.txt (line 4))\n",
            "  Downloading grapheme-0.6.0.tar.gz (207 kB)\n",
            "\u001b[2K     \u001b[90m━━━━━━━━━━━━━━━━━━━━━━━━━━━━━━━━━━━━━━━━\u001b[0m \u001b[32m207.3/207.3 kB\u001b[0m \u001b[31m20.8 MB/s\u001b[0m eta \u001b[36m0:00:00\u001b[0m\n",
            "\u001b[?25h  Preparing metadata (setup.py) ... \u001b[?25l\u001b[?25hdone\n",
            "Requirement already satisfied: wrapt<2,>=1.10 in /usr/local/lib/python3.10/dist-packages (from Deprecated->pymoo>=0.6.0.1->nncf>=2.1.0->-r openvino.txt (line 4)) (1.14.1)\n",
            "Building wheels for collected packages: jstyleson, grapheme\n",
            "  Building wheel for jstyleson (setup.py) ... \u001b[?25l\u001b[?25hdone\n",
            "  Created wheel for jstyleson: filename=jstyleson-0.0.2-py3-none-any.whl size=2385 sha256=c713b981518e81fbbc71535bfc521525256c2ae4b9cf2738c35ab2adf2d4e67c\n",
            "  Stored in directory: /root/.cache/pip/wheels/12/51/c6/a1e751db88203e11c6d9ffe4683ca3d8c14b1479639bec1006\n",
            "  Building wheel for grapheme (setup.py) ... \u001b[?25l\u001b[?25hdone\n",
            "  Created wheel for grapheme: filename=grapheme-0.6.0-py3-none-any.whl size=210078 sha256=a7e11a45fef6955273de9c57680511f94ca11974a58a6f9feff51ab6dbb3b0f3\n",
            "  Stored in directory: /root/.cache/pip/wheels/01/e1/49/37e6bde9886439057450c494a79b0bef8bbe897a54aebfc757\n",
            "Successfully built jstyleson grapheme\n",
            "Installing collected packages: texttable, openvino-telemetry, ninja, jstyleson, grapheme, addict, pyparsing, openvino, onnx, networkx, dill, Deprecated, cma, about-time, openvino-dev, alive-progress, pymoo, nncf\n",
            "  Attempting uninstall: pyparsing\n",
            "    Found existing installation: pyparsing 3.1.1\n",
            "    Uninstalling pyparsing-3.1.1:\n",
            "      Successfully uninstalled pyparsing-3.1.1\n",
            "  Attempting uninstall: networkx\n",
            "    Found existing installation: networkx 3.2.1\n",
            "    Uninstalling networkx-3.2.1:\n",
            "      Successfully uninstalled networkx-3.2.1\n",
            "\u001b[31mERROR: pip's dependency resolver does not currently take into account all the packages that are installed. This behaviour is the source of the following dependency conflicts.\n",
            "lida 0.0.10 requires fastapi, which is not installed.\n",
            "lida 0.0.10 requires kaleido, which is not installed.\n",
            "lida 0.0.10 requires python-multipart, which is not installed.\n",
            "lida 0.0.10 requires uvicorn, which is not installed.\u001b[0m\u001b[31m\n",
            "\u001b[0mSuccessfully installed Deprecated-1.2.14 about-time-4.2.1 addict-2.4.0 alive-progress-3.1.5 cma-3.2.2 dill-0.3.7 grapheme-0.6.0 jstyleson-0.0.2 networkx-2.8.2 ninja-1.10.2.4 nncf-2.7.0 onnx-1.15.0 openvino-2023.2.0 openvino-dev-2023.2.0 openvino-telemetry-2023.2.1 pymoo-0.6.1.1 pyparsing-2.4.7 texttable-1.7.0\n"
          ]
        },
        {
          "output_type": "display_data",
          "data": {
            "application/vnd.colab-display-data+json": {
              "pip_warning": {
                "packages": [
                  "pyparsing"
                ]
              }
            }
          },
          "metadata": {}
        }
      ]
    },
    {
      "cell_type": "markdown",
      "source": [
        "## Setup Anomalib as main folder"
      ],
      "metadata": {
        "id": "vZU2QatiXwxd"
      }
    },
    {
      "cell_type": "code",
      "source": [
        "import os\n",
        "os.chdir(\"/content\")"
      ],
      "metadata": {
        "id": "_LGYo5j_DWnZ"
      },
      "execution_count": null,
      "outputs": []
    },
    {
      "cell_type": "code",
      "source": [
        "%cd anomalib"
      ],
      "metadata": {
        "colab": {
          "base_uri": "https://localhost:8080/"
        },
        "id": "r6Sv-afHDkme",
        "outputId": "7ec050df-1372-46ab-cc69-96606b49dbff"
      },
      "execution_count": null,
      "outputs": [
        {
          "output_type": "stream",
          "name": "stdout",
          "text": [
            "/content/anomalib\n"
          ]
        }
      ]
    },
    {
      "cell_type": "markdown",
      "source": [
        "# NOTE: Before continue with the training in the config.yaml file you must make the following changes.\n",
        "\n",
        "    dataset:\n",
        "      ...\n",
        "      category: screw  # Put your category here\n",
        "      ...\n",
        "\n",
        "    ...\n",
        "\n",
        "    optimization:\n",
        "      export_mode: openvino  # Put the inferencer here\n",
        "\n",
        "    ...\n"
      ],
      "metadata": {
        "id": "ki-spe3F1bDw"
      }
    },
    {
      "cell_type": "markdown",
      "source": [
        "## Download the dataset and train the model"
      ],
      "metadata": {
        "id": "JJW842Nw1WOg"
      }
    },
    {
      "cell_type": "code",
      "source": [
        "!python tools/train.py --config src/anomalib/models/padim/config.yaml"
      ],
      "metadata": {
        "id": "ipJSDBmP84YV",
        "colab": {
          "base_uri": "https://localhost:8080/"
        },
        "outputId": "3f4a5eb2-b7dd-4142-ceea-1b12be8f1ff4"
      },
      "execution_count": null,
      "outputs": [
        {
          "output_type": "stream",
          "name": "stdout",
          "text": [
            "To use wandb logger install it using `pip install wandb`\n",
            "/usr/local/lib/python3.10/dist-packages/anomalib/config/config.py:280: UserWarning: config.project.unique_dir is set to False. This does not ensure that your results will be written in an empty directory and you may overwrite files.\n",
            "  warn(\n",
            "Global seed set to 42\n",
            "2023-12-16 09:22:43,857 - anomalib.data - INFO - Loading the datamodule\n",
            "2023-12-16 09:22:43,859 - anomalib.data.utils.transform - INFO - No config file has been provided. Using default transforms.\n",
            "2023-12-16 09:22:43,860 - anomalib.data.utils.transform - INFO - No config file has been provided. Using default transforms.\n",
            "2023-12-16 09:22:43,860 - anomalib.models - INFO - Loading the model.\n",
            "2023-12-16 09:22:43,862 - anomalib.models.components.base.anomaly_module - INFO - Initializing PadimLightning model.\n",
            "/usr/local/lib/python3.10/dist-packages/torchmetrics/utilities/prints.py:36: UserWarning: Metric `PrecisionRecallCurve` will save all targets and predictions in buffer. For large datasets this may lead to large memory footprint.\n",
            "  warnings.warn(*args, **kwargs)\n",
            "2023-12-16 09:22:43,877 - anomalib.models.components.feature_extractors.timm - WARNING - FeatureExtractor is deprecated. Use TimmFeatureExtractor instead. Both FeatureExtractor and TimmFeatureExtractor will be removed in a future release.\n",
            "2023-12-16 09:22:44,596 - timm.models.helpers - INFO - Loading pretrained weights from url (https://download.pytorch.org/models/resnet18-5c106cde.pth)\n",
            "2023-12-16 09:22:45,321 - anomalib.utils.loggers - INFO - Loading the experiment logger(s)\n",
            "2023-12-16 09:22:45,322 - anomalib.utils.callbacks - INFO - Loading the callbacks\n",
            "2023-12-16 09:22:45,327 - anomalib.utils.callbacks - INFO - Setting model export to openvino\n",
            "2023-12-16 09:22:45,396 - pytorch_lightning.utilities.rank_zero - INFO - GPU available: False, used: False\n",
            "2023-12-16 09:22:45,396 - pytorch_lightning.utilities.rank_zero - INFO - TPU available: False, using: 0 TPU cores\n",
            "2023-12-16 09:22:45,396 - pytorch_lightning.utilities.rank_zero - INFO - IPU available: False, using: 0 IPUs\n",
            "2023-12-16 09:22:45,396 - pytorch_lightning.utilities.rank_zero - INFO - HPU available: False, using: 0 HPUs\n",
            "2023-12-16 09:22:45,396 - pytorch_lightning.utilities.rank_zero - INFO - `Trainer(limit_train_batches=1.0)` was configured so 100% of the batches per epoch will be used..\n",
            "2023-12-16 09:22:45,396 - pytorch_lightning.utilities.rank_zero - INFO - `Trainer(limit_val_batches=1.0)` was configured so 100% of the batches will be used..\n",
            "2023-12-16 09:22:45,396 - pytorch_lightning.utilities.rank_zero - INFO - `Trainer(limit_test_batches=1.0)` was configured so 100% of the batches will be used..\n",
            "2023-12-16 09:22:45,396 - pytorch_lightning.utilities.rank_zero - INFO - `Trainer(limit_predict_batches=1.0)` was configured so 100% of the batches will be used..\n",
            "2023-12-16 09:22:45,396 - pytorch_lightning.utilities.rank_zero - INFO - `Trainer(val_check_interval=1.0)` was configured so validation will run at the end of the training epoch..\n",
            "2023-12-16 09:22:45,396 - anomalib - INFO - Training the model.\n",
            "2023-12-16 09:22:45,408 - anomalib.data.mvtec - INFO - Found the dataset.\n",
            "/usr/local/lib/python3.10/dist-packages/torchmetrics/utilities/prints.py:36: UserWarning: Metric `ROC` will save all targets and predictions in buffer. For large datasets this may lead to large memory footprint.\n",
            "  warnings.warn(*args, **kwargs)\n",
            "/usr/local/lib/python3.10/dist-packages/pytorch_lightning/core/optimizer.py:183: UserWarning: `LightningModule.configure_optimizers` returned `None`, this fit will run with no optimizer\n",
            "  rank_zero_warn(\n",
            "2023-12-16 09:22:45,534 - pytorch_lightning.callbacks.model_summary - INFO - \n",
            "  | Name                  | Type                     | Params\n",
            "-------------------------------------------------------------------\n",
            "0 | image_threshold       | AnomalyScoreThreshold    | 0     \n",
            "1 | pixel_threshold       | AnomalyScoreThreshold    | 0     \n",
            "2 | model                 | PadimModel               | 2.8 M \n",
            "3 | image_metrics         | AnomalibMetricCollection | 0     \n",
            "4 | pixel_metrics         | AnomalibMetricCollection | 0     \n",
            "5 | normalization_metrics | MinMax                   | 0     \n",
            "-------------------------------------------------------------------\n",
            "2.8 M     Trainable params\n",
            "0         Non-trainable params\n",
            "2.8 M     Total params\n",
            "11.131    Total estimated model params size (MB)\n",
            "/usr/local/lib/python3.10/dist-packages/torch/utils/data/dataloader.py:557: UserWarning: This DataLoader will create 8 worker processes in total. Our suggested max number of worker in current system is 2, which is smaller than what this DataLoader is going to create. Please be aware that excessive worker creation might get DataLoader running slow or even freeze, lower the worker number to avoid potential slowness/freeze if necessary.\n",
            "  warnings.warn(_create_warning_msg(\n",
            "Epoch 0:   0% 0/15 [00:00<?, ?it/s] /usr/local/lib/python3.10/dist-packages/pytorch_lightning/loops/optimization/optimizer_loop.py:138: UserWarning: `training_step` returned `None`. If this was on purpose, ignore this warning...\n",
            "  self.warning_cache.warn(\"`training_step` returned `None`. If this was on purpose, ignore this warning...\")\n",
            "Epoch 0:  67% 10/15 [00:53<00:26,  5.37s/it, loss=nan]\n",
            "Validation: 0it [00:00, ?it/s]\u001b[A2023-12-16 09:23:39,239 - anomalib.models.padim.lightning_model - INFO - Aggregating the embedding extracted from the training set.\n",
            "2023-12-16 09:23:39,798 - anomalib.models.padim.lightning_model - INFO - Fitting a Gaussian to the embedding collected from the training set.\n",
            "\n",
            "Validation:   0% 0/5 [00:00<?, ?it/s]\u001b[A\n",
            "Validation DataLoader 0:   0% 0/5 [00:00<?, ?it/s]\u001b[A\n",
            "Epoch 0:  73% 11/15 [01:22<00:30,  7.50s/it, loss=nan]\n",
            "Epoch 0:  80% 12/15 [01:30<00:22,  7.52s/it, loss=nan]\n",
            "Epoch 0:  87% 13/15 [01:37<00:14,  7.48s/it, loss=nan]\n",
            "Epoch 0:  93% 14/15 [01:44<00:07,  7.49s/it, loss=nan]\n",
            "Epoch 0: 100% 15/15 [02:00<00:00,  8.03s/it, loss=nan, pixel_F1Score=0.224, pixel_AUROC=0.978]\n",
            "Epoch 0: 100% 15/15 [02:00<00:00,  8.03s/it, loss=nan, pixel_F1Score=0.224, pixel_AUROC=0.978]2023-12-16 09:24:46,762 - pytorch_lightning.utilities.rank_zero - INFO - `Trainer.fit` stopped: `max_epochs=1` reached.\n",
            "2023-12-16 09:24:46,763 - anomalib.utils.callbacks.export - INFO - Exporting the model\n",
            "/usr/local/lib/python3.10/dist-packages/torch/onnx/_internal/jit_utils.py:307: UserWarning: Constant folding - Only steps=1 can be constant folded for opset >= 10 onnx::Slice op. Constant folding not applied. (Triggered internally at ../torch/csrc/jit/passes/onnx/constant_fold.cpp:179.)\n",
            "  _C._jit_pass_onnx_node_shape_type_inference(node, params_dict, opset_version)\n",
            "/usr/local/lib/python3.10/dist-packages/torch/onnx/utils.py:702: UserWarning: Constant folding - Only steps=1 can be constant folded for opset >= 10 onnx::Slice op. Constant folding not applied. (Triggered internally at ../torch/csrc/jit/passes/onnx/constant_fold.cpp:179.)\n",
            "  _C._jit_pass_onnx_graph_shape_type_inference(\n",
            "/usr/local/lib/python3.10/dist-packages/torch/onnx/utils.py:1209: UserWarning: Constant folding - Only steps=1 can be constant folded for opset >= 10 onnx::Slice op. Constant folding not applied. (Triggered internally at ../torch/csrc/jit/passes/onnx/constant_fold.cpp:179.)\n",
            "  _C._jit_pass_onnx_graph_shape_type_inference(\n",
            "[ INFO ] Generated IR will be compressed to FP16. If you get lower accuracy, please consider disabling compression explicitly by adding argument --compress_to_fp16=False.\n",
            "Find more information about compression to FP16 at https://docs.openvino.ai/2023.0/openvino_docs_MO_DG_FP16_Compression.html\n",
            "[ INFO ] The model was converted to IR v11, the latest model format that corresponds to the source DL framework input/output format. While IR v11 is backwards compatible with OpenVINO Inference Engine API v1.0, please use API v2.0 (as of 2022.1) to take advantage of the latest improvements in IR v11.\n",
            "Find more information about API v2.0 and IR v11 at https://docs.openvino.ai/2023.0/openvino_2_0_transition_guide.html\n",
            "[ SUCCESS ] Generated IR version 11 model.\n",
            "[ SUCCESS ] XML file: /content/anomalib/results/padim/mvtec/screw/run/weights/openvino/model.xml\n",
            "[ SUCCESS ] BIN file: /content/anomalib/results/padim/mvtec/screw/run/weights/openvino/model.bin\n",
            "/usr/local/lib/python3.10/dist-packages/anomalib/deploy/export.py:218: UserWarning: Transform ToTensorV2 is not supported currently\n",
            "  warn(f\"Transform {transform} is not supported currently\")\n",
            "Epoch 0: 100% 15/15 [02:11<00:00,  8.74s/it, loss=nan, pixel_F1Score=0.224, pixel_AUROC=0.978]\n",
            "2023-12-16 09:24:57,053 - anomalib.utils.callbacks.timer - INFO - Training took 131.52 seconds\n",
            "2023-12-16 09:24:57,054 - anomalib - INFO - Loading the best model weights.\n",
            "2023-12-16 09:24:57,054 - anomalib - INFO - Testing the model.\n",
            "2023-12-16 09:24:57,061 - anomalib.data.mvtec - INFO - Found the dataset.\n",
            "2023-12-16 09:24:57,062 - anomalib.utils.callbacks.model_loader - INFO - Loading the model from /content/anomalib/results/padim/mvtec/screw/run/weights/lightning/model.ckpt\n",
            "/usr/local/lib/python3.10/dist-packages/torchmetrics/utilities/prints.py:36: UserWarning: Metric `ROC` will save all targets and predictions in buffer. For large datasets this may lead to large memory footprint.\n",
            "  warnings.warn(*args, **kwargs)\n",
            "/usr/local/lib/python3.10/dist-packages/torch/utils/data/dataloader.py:557: UserWarning: This DataLoader will create 8 worker processes in total. Our suggested max number of worker in current system is 2, which is smaller than what this DataLoader is going to create. Please be aware that excessive worker creation might get DataLoader running slow or even freeze, lower the worker number to avoid potential slowness/freeze if necessary.\n",
            "  warnings.warn(_create_warning_msg(\n",
            "Testing DataLoader 0: 100% 5/5 [01:28<00:00, 17.72s/it]2023-12-16 09:26:34,604 - anomalib.utils.callbacks.timer - INFO - Testing took 97.30967020988464 seconds\n",
            "Throughput (batch_size=32) : 1.6442353535357817 FPS\n",
            "Testing DataLoader 0: 100% 5/5 [01:35<00:00, 19.19s/it]\n",
            "┏━━━━━━━━━━━━━━━━━━━━━━━━━━━┳━━━━━━━━━━━━━━━━━━━━━━━━━━━┓\n",
            "┃\u001b[1m \u001b[0m\u001b[1m       Test metric       \u001b[0m\u001b[1m \u001b[0m┃\u001b[1m \u001b[0m\u001b[1m      DataLoader 0       \u001b[0m\u001b[1m \u001b[0m┃\n",
            "┡━━━━━━━━━━━━━━━━━━━━━━━━━━━╇━━━━━━━━━━━━━━━━━━━━━━━━━━━┩\n",
            "│\u001b[36m \u001b[0m\u001b[36m       image_AUROC       \u001b[0m\u001b[36m \u001b[0m│\u001b[35m \u001b[0m\u001b[35m   0.7589669823646545    \u001b[0m\u001b[35m \u001b[0m│\n",
            "│\u001b[36m \u001b[0m\u001b[36m      image_F1Score      \u001b[0m\u001b[36m \u001b[0m│\u001b[35m \u001b[0m\u001b[35m   0.8787878751754761    \u001b[0m\u001b[35m \u001b[0m│\n",
            "│\u001b[36m \u001b[0m\u001b[36m       pixel_AUROC       \u001b[0m\u001b[36m \u001b[0m│\u001b[35m \u001b[0m\u001b[35m   0.9781628847122192    \u001b[0m\u001b[35m \u001b[0m│\n",
            "│\u001b[36m \u001b[0m\u001b[36m      pixel_F1Score      \u001b[0m\u001b[36m \u001b[0m│\u001b[35m \u001b[0m\u001b[35m   0.22377659380435944   \u001b[0m\u001b[35m \u001b[0m│\n",
            "└───────────────────────────┴───────────────────────────┘\n"
          ]
        }
      ]
    }
  ]
}